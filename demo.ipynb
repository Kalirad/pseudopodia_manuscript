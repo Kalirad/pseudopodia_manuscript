{
 "cells": [
  {
   "cell_type": "code",
   "execution_count": 1,
   "metadata": {},
   "outputs": [],
   "source": [
    "import matplotlib.pyplot as plt\n",
    "%matplotlib inline  \n",
    "import numpy as np\n",
    "import copy as copy"
   ]
  },
  {
   "cell_type": "markdown",
   "metadata": {},
   "source": [
    "## A demo of the simplified pseudopodia model\n",
    "Author: __Dr. Ata Kalirad__"
   ]
  },
  {
   "cell_type": "code",
   "execution_count": 75,
   "metadata": {},
   "outputs": [],
   "source": [
    "%run simplified_pseudopodia.py"
   ]
  },
  {
   "cell_type": "markdown",
   "metadata": {},
   "source": [
    "This program, written in Python, consists of two objects: `Voxel` and `Cell`. <br>\n",
    "To initialize a `voxel` the average number of chemical species and a list of _ks_ are required. (The number of chemical species in a `voxel` is drawn from a Poisson distribution with the given average.) "
   ]
  },
  {
   "cell_type": "code",
   "execution_count": 76,
   "metadata": {},
   "outputs": [],
   "source": [
    "RAS=50 \n",
    "PI3K=1 \n",
    "PTEN=1\n",
    "P2=1\n",
    "PI3K_P2=1\n",
    "P3=1\n",
    "PTEN_P3=1\n",
    "PIP=1\n",
    "actin=0\n",
    "myosin=0\n",
    "k_list = [1, 1, 1, 1, 1, 1, 1, 1, 1, 1, 1, 1, 1, 1, 1]"
   ]
  },
  {
   "cell_type": "code",
   "execution_count": 77,
   "metadata": {},
   "outputs": [],
   "source": [
    "vox = Voxel(RAS, PI3K, PTEN, P2, PI3K_P2, P3, PTEN_P3, PIP, actin, myosin, k_list)"
   ]
  },
  {
   "cell_type": "code",
   "execution_count": 78,
   "metadata": {},
   "outputs": [],
   "source": [
    "cell = Cell(vox, (10,10), 0.1)"
   ]
  },
  {
   "cell_type": "code",
   "execution_count": 43,
   "metadata": {},
   "outputs": [
    {
     "data": {
      "text/plain": [
       "{'RAS': [(49.01, 39.569900000000004),\n",
       "  (48.13, 38.9131),\n",
       "  (47.26, 39.1924),\n",
       "  (46.41, 39.081900000000005),\n",
       "  (45.55, 39.3875),\n",
       "  (44.69, 39.69389999999999),\n",
       "  (43.9, 40.24999999999999),\n",
       "  (43.12, 40.8656),\n",
       "  (42.32, 40.537600000000005),\n",
       "  (41.49, 40.8899)]}"
      ]
     },
     "execution_count": 43,
     "metadata": {},
     "output_type": "execute_result"
    }
   ],
   "source": [
    "cell.history"
   ]
  },
  {
   "cell_type": "code",
   "execution_count": 37,
   "metadata": {},
   "outputs": [
    {
     "data": {
      "text/plain": [
       "{0: [<__main__.Species at 0x1105aaf10>],\n",
       " 1: [<__main__.Species at 0x1105aaf10>],\n",
       " 2: [<__main__.Species at 0x1105aaf50>, <__main__.Species at 0x1104add50>],\n",
       " 3: [<__main__.Species at 0x1105aafd0>],\n",
       " 4: [<__main__.Species at 0x1105aafd0>],\n",
       " 5: [<__main__.Species at 0x1105aaf90>, <__main__.Species at 0x1105aad50>],\n",
       " 6: [<__main__.Species at 0x1104f9c10>],\n",
       " 7: [<__main__.Species at 0x1104f9c10>],\n",
       " 8: [<__main__.Species at 0x1105aad50>],\n",
       " 9: [<__main__.Species at 0x1104f9d10>],\n",
       " 10: [<__main__.Species at 0x1104add50>],\n",
       " 11: [<__main__.Species at 0x1105aad50>],\n",
       " 12: [<__main__.Species at 0x1105aaf90>],\n",
       " 13: [<__main__.Species at 0x1104f9990>],\n",
       " 14: [<__main__.Species at 0x1104f9ed0>]}"
      ]
     },
     "execution_count": 37,
     "metadata": {},
     "output_type": "execute_result"
    }
   ],
   "source": [
    "cell.voxels[0].reactants"
   ]
  },
  {
   "cell_type": "code",
   "execution_count": null,
   "metadata": {},
   "outputs": [],
   "source": []
  }
 ],
 "metadata": {
  "kernelspec": {
   "display_name": "Python 2",
   "language": "python",
   "name": "python2"
  },
  "language_info": {
   "codemirror_mode": {
    "name": "ipython",
    "version": 2
   },
   "file_extension": ".py",
   "mimetype": "text/x-python",
   "name": "python",
   "nbconvert_exporter": "python",
   "pygments_lexer": "ipython2",
   "version": "2.7.15"
  }
 },
 "nbformat": 4,
 "nbformat_minor": 2
}
